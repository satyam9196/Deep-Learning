{
 "cells": [
  {
   "cell_type": "code",
   "execution_count": 3,
   "metadata": {
    "colab": {
     "base_uri": "https://localhost:8080/"
    },
    "id": "eUjBH7jgsEn-",
    "outputId": "080b616d-7772-4182-da29-0d69b5e5ccf2"
   },
   "outputs": [
    {
     "name": "stderr",
     "output_type": "stream",
     "text": [
      "UsageError: Line magic function `%tensorflow_version` not found.\n"
     ]
    }
   ],
   "source": [
    "%tensorflow_version 2.x"
   ]
  },
  {
   "cell_type": "code",
   "execution_count": 4,
   "metadata": {
    "colab": {
     "base_uri": "https://localhost:8080/"
    },
    "id": "krGX_eVeyg9Z",
    "outputId": "1755640d-e359-442f-ff2f-c023ece97e63"
   },
   "outputs": [
    {
     "ename": "ModuleNotFoundError",
     "evalue": "No module named 'tensorflow'",
     "output_type": "error",
     "traceback": [
      "\u001b[1;31m---------------------------------------------------------------------------\u001b[0m",
      "\u001b[1;31mModuleNotFoundError\u001b[0m                       Traceback (most recent call last)",
      "Cell \u001b[1;32mIn[4], line 1\u001b[0m\n\u001b[1;32m----> 1\u001b[0m \u001b[38;5;28;01mimport\u001b[39;00m\u001b[38;5;250m \u001b[39m\u001b[38;5;21;01mtensorflow\u001b[39;00m\u001b[38;5;250m \u001b[39m\u001b[38;5;28;01mas\u001b[39;00m\u001b[38;5;250m \u001b[39m\u001b[38;5;21;01mtf\u001b[39;00m\n\u001b[0;32m      2\u001b[0m \u001b[38;5;28mprint\u001b[39m(tf\u001b[38;5;241m.\u001b[39mversion)\n",
      "\u001b[1;31mModuleNotFoundError\u001b[0m: No module named 'tensorflow'"
     ]
    }
   ],
   "source": [
    "import tensorflow as tf\n",
    "print(tf.version)"
   ]
  },
  {
   "cell_type": "code",
   "execution_count": 5,
   "metadata": {
    "colab": {
     "base_uri": "https://localhost:8080/",
     "height": 35
    },
    "id": "AnXUPUZ438pO",
    "outputId": "dba8c956-965a-4381-bab7-dcfef790943b"
   },
   "outputs": [
    {
     "ename": "NameError",
     "evalue": "name 'tf' is not defined",
     "output_type": "error",
     "traceback": [
      "\u001b[1;31m---------------------------------------------------------------------------\u001b[0m",
      "\u001b[1;31mNameError\u001b[0m                                 Traceback (most recent call last)",
      "Cell \u001b[1;32mIn[5], line 1\u001b[0m\n\u001b[1;32m----> 1\u001b[0m tf\u001b[38;5;241m.\u001b[39m__version__\n",
      "\u001b[1;31mNameError\u001b[0m: name 'tf' is not defined"
     ]
    }
   ],
   "source": [
    "tf.__version__"
   ]
  },
  {
   "cell_type": "code",
   "execution_count": 6,
   "metadata": {
    "colab": {
     "base_uri": "https://localhost:8080/"
    },
    "id": "TOGM3qUa4zWE",
    "outputId": "b7c06939-1aad-4cf8-ea25-3fab61f5dddc"
   },
   "outputs": [
    {
     "ename": "NameError",
     "evalue": "name 'tf' is not defined",
     "output_type": "error",
     "traceback": [
      "\u001b[1;31m---------------------------------------------------------------------------\u001b[0m",
      "\u001b[1;31mNameError\u001b[0m                                 Traceback (most recent call last)",
      "Cell \u001b[1;32mIn[6], line 1\u001b[0m\n\u001b[1;32m----> 1\u001b[0m tf\u001b[38;5;241m.\u001b[39mtest\u001b[38;5;241m.\u001b[39mis_gpu_available()\n",
      "\u001b[1;31mNameError\u001b[0m: name 'tf' is not defined"
     ]
    }
   ],
   "source": [
    "tf.test.is_gpu_available()"
   ]
  },
  {
   "cell_type": "code",
   "execution_count": null,
   "metadata": {
    "colab": {
     "base_uri": "https://localhost:8080/"
    },
    "id": "4XSW8ON86wH0",
    "outputId": "ed66d281-2904-43c9-8a32-f1f2504311cd"
   },
   "outputs": [],
   "source": [
    "x= tf.constant(10)\n",
    "x"
   ]
  },
  {
   "cell_type": "code",
   "execution_count": null,
   "metadata": {
    "colab": {
     "base_uri": "https://localhost:8080/"
    },
    "id": "yVkBNqtH-BsE",
    "outputId": "28fca711-796b-4085-d3a0-c3a0d50ab2df"
   },
   "outputs": [],
   "source": [
    "y= tf.constant(10.5)\n",
    "y"
   ]
  },
  {
   "cell_type": "code",
   "execution_count": null,
   "metadata": {
    "colab": {
     "base_uri": "https://localhost:8080/"
    },
    "id": "PQCXNTNM-YxS",
    "outputId": "26819267-8614-4f6f-ad87-0152519bd76e"
   },
   "outputs": [],
   "source": [
    "z=tf.constant(\"India\")\n",
    "z"
   ]
  },
  {
   "cell_type": "code",
   "execution_count": null,
   "metadata": {
    "colab": {
     "base_uri": "https://localhost:8080/"
    },
    "id": "HzBlh-coAukt",
    "outputId": "3e0c5633-7a6a-40e9-9aa2-13cabf6de4d7"
   },
   "outputs": [],
   "source": [
    "s=tf.constant([1, 2, 3, 4, 5, 6])\n",
    "s"
   ]
  },
  {
   "cell_type": "code",
   "execution_count": null,
   "metadata": {
    "colab": {
     "base_uri": "https://localhost:8080/"
    },
    "id": "fBAh4CXbBPMf",
    "outputId": "3284c642-17e8-4351-cf23-07c45e98ec52"
   },
   "outputs": [],
   "source": [
    "import numpy as np\n",
    "\n",
    "a = np.array([[1, 2, 3], [4, 5, 6]])\n",
    "tf.constant(a)"
   ]
  },
  {
   "cell_type": "code",
   "execution_count": 2,
   "metadata": {
    "colab": {
     "base_uri": "https://localhost:8080/"
    },
    "id": "ZIbTO_08BbZ3",
    "outputId": "3b47572c-dc54-4b53-b334-32d4ba39583d"
   },
   "outputs": [
    {
     "ename": "NameError",
     "evalue": "name 'tf' is not defined",
     "output_type": "error",
     "traceback": [
      "\u001b[1;31m---------------------------------------------------------------------------\u001b[0m",
      "\u001b[1;31mNameError\u001b[0m                                 Traceback (most recent call last)",
      "Cell \u001b[1;32mIn[2], line 1\u001b[0m\n\u001b[1;32m----> 1\u001b[0m t_2d\u001b[38;5;241m=\u001b[39mtf\u001b[38;5;241m.\u001b[39mconstant([[\u001b[38;5;241m1\u001b[39m,\u001b[38;5;241m2\u001b[39m],[\u001b[38;5;241m3\u001b[39m,\u001b[38;5;241m4\u001b[39m]])\n\u001b[0;32m      2\u001b[0m t_2d\n",
      "\u001b[1;31mNameError\u001b[0m: name 'tf' is not defined"
     ]
    }
   ],
   "source": [
    "t_2d=tf.constant([[1,2],[3,4]])\n",
    "t_2d"
   ]
  },
  {
   "cell_type": "code",
   "execution_count": null,
   "metadata": {
    "colab": {
     "base_uri": "https://localhost:8080/"
    },
    "id": "9Rfr6fV-B4Sp",
    "outputId": "6788d64c-7433-40cb-f7ac-577803ed9463"
   },
   "outputs": [],
   "source": [
    "t_1d=tf.constant([1,2,3,4])\n",
    "t_1d"
   ]
  },
  {
   "cell_type": "code",
   "execution_count": null,
   "metadata": {
    "colab": {
     "base_uri": "https://localhost:8080/"
    },
    "id": "rx83aSTMD4UA",
    "outputId": "71f9dbe0-3d1c-4f40-e569-c22c02392710"
   },
   "outputs": [],
   "source": [
    "t_2d_1=tf.constant([1,2,3,4],shape=(2,2),dtype=\"int32\")\n",
    "t_2d_1"
   ]
  },
  {
   "cell_type": "code",
   "execution_count": null,
   "metadata": {
    "colab": {
     "base_uri": "https://localhost:8080/"
    },
    "id": "9wfWzQ-VEgo4",
    "outputId": "94dd05a1-2431-46b6-d2a4-59057d9ecb0a"
   },
   "outputs": [],
   "source": [
    "t_3d_1=tf.constant([[[1,2],[2,3],[3,4]]],dtype=\"float32\")\n",
    "t_3d_1"
   ]
  },
  {
   "cell_type": "code",
   "execution_count": null,
   "metadata": {
    "colab": {
     "base_uri": "https://localhost:8080/"
    },
    "id": "9hkEtx6tFYXW",
    "outputId": "4c420fd8-c6ab-45da-9c70-ed81c16e2614"
   },
   "outputs": [],
   "source": [
    "type(t_3d_1)"
   ]
  },
  {
   "cell_type": "code",
   "execution_count": null,
   "metadata": {
    "colab": {
     "base_uri": "https://localhost:8080/"
    },
    "id": "D8fkJ60mFnuv",
    "outputId": "26854d32-3db4-447b-d524-b3693c36cc05"
   },
   "outputs": [],
   "source": [
    "t_3d_1.shape"
   ]
  },
  {
   "cell_type": "markdown",
   "metadata": {
    "id": "svVr-mgWz_f_"
   },
   "source": [
    "# Tensorflow Variable\n",
    "\n"
   ]
  },
  {
   "cell_type": "code",
   "execution_count": null,
   "metadata": {
    "id": "Sra-X8EA0OoD"
   },
   "outputs": [],
   "source": [
    "# Variable constructor requires an initial value for the variable\n",
    "# which can be a tensor of any type & shape.\n",
    "# This initial value defines the type & shape of the variable.\n",
    "# After construction the type & shape of the variable are fixed."
   ]
  },
  {
   "cell_type": "code",
   "execution_count": null,
   "metadata": {
    "id": "MiRgAiLY4J07"
   },
   "outputs": [],
   "source": [
    "import tensorflow as tf"
   ]
  },
  {
   "cell_type": "code",
   "execution_count": null,
   "metadata": {
    "colab": {
     "base_uri": "https://localhost:8080/"
    },
    "id": "RJXp2eoO4Ohj",
    "outputId": "3782cb13-f3ab-47e0-b238-520838177b2e"
   },
   "outputs": [],
   "source": [
    "tf.Variable(1)"
   ]
  },
  {
   "cell_type": "code",
   "execution_count": null,
   "metadata": {
    "colab": {
     "base_uri": "https://localhost:8080/"
    },
    "id": "SZR8Uqa94TpC",
    "outputId": "f87c4e41-ebb1-4624-dbbf-f84a8b5b2485"
   },
   "outputs": [],
   "source": [
    "x=tf.Variable([1,2,3,4])\n",
    "x"
   ]
  },
  {
   "cell_type": "code",
   "execution_count": null,
   "metadata": {
    "colab": {
     "base_uri": "https://localhost:8080/",
     "height": 35
    },
    "id": "UX2nz50p4oqi",
    "outputId": "ec12c259-c398-4e19-cca1-833ce2fdc8bb"
   },
   "outputs": [],
   "source": [
    "x.name"
   ]
  },
  {
   "cell_type": "code",
   "execution_count": null,
   "metadata": {
    "colab": {
     "base_uri": "https://localhost:8080/"
    },
    "id": "5Tt-cmeg5u0y",
    "outputId": "01e42730-38c7-4d91-cd1f-7e9f3210e66a"
   },
   "outputs": [],
   "source": [
    "x.shape"
   ]
  },
  {
   "cell_type": "code",
   "execution_count": null,
   "metadata": {
    "colab": {
     "base_uri": "https://localhost:8080/"
    },
    "id": "U7YzEa6q6PEp",
    "outputId": "9ad47d11-a028-4f37-cae2-57af02d866b7"
   },
   "outputs": [],
   "source": [
    "x.dtype"
   ]
  },
  {
   "cell_type": "code",
   "execution_count": null,
   "metadata": {
    "id": "C0sKWqWX6TOR"
   },
   "outputs": [],
   "source": [
    "y=tf.Variable([1.0,2,3.3,4])"
   ]
  },
  {
   "cell_type": "code",
   "execution_count": null,
   "metadata": {
    "colab": {
     "base_uri": "https://localhost:8080/"
    },
    "id": "5TtmQHU66rHB",
    "outputId": "dcd699f4-ce9e-4685-e86b-05f50cb309a0"
   },
   "outputs": [],
   "source": [
    "y"
   ]
  },
  {
   "cell_type": "code",
   "execution_count": null,
   "metadata": {
    "id": "2jlMC8y46sBI"
   },
   "outputs": [],
   "source": [
    "z=tf.Variable(True,False)"
   ]
  },
  {
   "cell_type": "code",
   "execution_count": null,
   "metadata": {
    "colab": {
     "base_uri": "https://localhost:8080/"
    },
    "id": "Xca8v0sY61q4",
    "outputId": "5ab8b252-4437-402f-f5a3-6df76d827724"
   },
   "outputs": [],
   "source": [
    "z"
   ]
  },
  {
   "cell_type": "code",
   "execution_count": null,
   "metadata": {
    "id": "_dKv6dZ762ag"
   },
   "outputs": [],
   "source": [
    "t_con=tf.constant([1,2,3,4])"
   ]
  },
  {
   "cell_type": "code",
   "execution_count": null,
   "metadata": {
    "colab": {
     "base_uri": "https://localhost:8080/"
    },
    "id": "AVBwfbJW7XZg",
    "outputId": "f83ace55-93b6-4810-9c85-5d83d2b50dcb"
   },
   "outputs": [],
   "source": [
    "t_con"
   ]
  },
  {
   "cell_type": "code",
   "execution_count": null,
   "metadata": {
    "colab": {
     "base_uri": "https://localhost:8080/"
    },
    "id": "TnVI9G1o7Zqh",
    "outputId": "9b8c9408-f3f0-4775-8b89-37a33b284c81"
   },
   "outputs": [],
   "source": [
    "tf.Variable(t_con)"
   ]
  },
  {
   "cell_type": "markdown",
   "metadata": {
    "id": "AP3Y-sfu781x"
   },
   "source": [
    "# Create Tensorflow variable with different Shape"
   ]
  },
  {
   "cell_type": "code",
   "execution_count": null,
   "metadata": {
    "colab": {
     "base_uri": "https://localhost:8080/"
    },
    "id": "jUiv0XmF8G8a",
    "outputId": "883266ed-c3c6-4a24-9e22-46562da4aa9f"
   },
   "outputs": [],
   "source": [
    "t_2d=tf.Variable([[2,3],[4,5]])\n",
    "t_2d"
   ]
  },
  {
   "cell_type": "code",
   "execution_count": null,
   "metadata": {
    "colab": {
     "base_uri": "https://localhost:8080/"
    },
    "id": "oM929fHh8hXA",
    "outputId": "6251c9c1-8408-4cf7-999c-dbaa82c4778e"
   },
   "outputs": [],
   "source": [
    "x"
   ]
  },
  {
   "cell_type": "code",
   "execution_count": null,
   "metadata": {
    "colab": {
     "base_uri": "https://localhost:8080/"
    },
    "id": "FxTbs80R84no",
    "outputId": "6a3f0949-a68b-40f7-ef19-38e9e30efcc6"
   },
   "outputs": [],
   "source": [
    "tf.reshape(x,(2,2))"
   ]
  },
  {
   "cell_type": "markdown",
   "metadata": {
    "id": "a0GfafVm89pg"
   },
   "source": [
    "# Get index of highest value"
   ]
  },
  {
   "cell_type": "code",
   "execution_count": null,
   "metadata": {
    "colab": {
     "base_uri": "https://localhost:8080/"
    },
    "id": "FF5ocORa9P0o",
    "outputId": "9e3fe763-9feb-429e-8079-418c68b15af3"
   },
   "outputs": [],
   "source": [
    "t_2d"
   ]
  },
  {
   "cell_type": "code",
   "execution_count": null,
   "metadata": {
    "colab": {
     "base_uri": "https://localhost:8080/"
    },
    "id": "TYiAIs3L9TCo",
    "outputId": "25ec9527-38fa-4ef5-94b7-e6d282f9485f"
   },
   "outputs": [],
   "source": [
    "tf.argmax(t_2d)"
   ]
  },
  {
   "cell_type": "markdown",
   "metadata": {
    "id": "RJlDLCak-efH"
   },
   "source": [
    "# Viewed/Convert as a Tensor"
   ]
  },
  {
   "cell_type": "code",
   "execution_count": null,
   "metadata": {
    "colab": {
     "base_uri": "https://localhost:8080/"
    },
    "id": "IMdtlP0KAvrm",
    "outputId": "517342c0-22c5-40a5-99ec-4862aa742db7"
   },
   "outputs": [],
   "source": [
    "x"
   ]
  },
  {
   "cell_type": "code",
   "execution_count": null,
   "metadata": {
    "colab": {
     "base_uri": "https://localhost:8080/"
    },
    "id": "KT4YX1hDAxR2",
    "outputId": "57647eb7-95e2-426f-8ed7-2b474c82f924"
   },
   "outputs": [],
   "source": [
    "tf.convert_to_tensor(x)"
   ]
  },
  {
   "cell_type": "code",
   "execution_count": null,
   "metadata": {
    "colab": {
     "base_uri": "https://localhost:8080/"
    },
    "id": "UEA2TkacA4X-",
    "outputId": "ff59dbe2-2035-40ad-dcea-1fba4c578b6c"
   },
   "outputs": [],
   "source": [
    "tf.convert_to_tensor(t_2d)"
   ]
  },
  {
   "cell_type": "markdown",
   "metadata": {
    "id": "1sC0gbESA_1N"
   },
   "source": [
    "# Change/Assign New Value to Tensor"
   ]
  },
  {
   "cell_type": "code",
   "execution_count": null,
   "metadata": {
    "colab": {
     "base_uri": "https://localhost:8080/"
    },
    "id": "AdD6x_L5BI3d",
    "outputId": "1fcae71f-62ba-499a-9bb6-743c600f7a16"
   },
   "outputs": [],
   "source": [
    "x=tf.Variable([1,2,3,4])\n",
    "x"
   ]
  },
  {
   "cell_type": "code",
   "execution_count": null,
   "metadata": {
    "colab": {
     "base_uri": "https://localhost:8080/"
    },
    "id": "_mfMYLoYCCTu",
    "outputId": "6c444c15-de7d-4572-990c-c9cbef76abec"
   },
   "outputs": [],
   "source": [
    "x.assign([4,6,2,8])"
   ]
  },
  {
   "cell_type": "code",
   "execution_count": null,
   "metadata": {
    "colab": {
     "base_uri": "https://localhost:8080/"
    },
    "id": "d2gDF1lrCGi1",
    "outputId": "d19ad5d0-a634-459a-a897-0726a346af78"
   },
   "outputs": [],
   "source": [
    "x"
   ]
  },
  {
   "cell_type": "code",
   "execution_count": null,
   "metadata": {
    "colab": {
     "base_uri": "https://localhost:8080/"
    },
    "id": "6OPKQwCDCZHe",
    "outputId": "d9a1c3f9-802b-48ab-b67e-9f6dcc81e5a2"
   },
   "outputs": [],
   "source": [
    "x.assign([4,6,2,9])\n"
   ]
  },
  {
   "cell_type": "code",
   "execution_count": null,
   "metadata": {
    "colab": {
     "base_uri": "https://localhost:8080/"
    },
    "id": "hdjIbiQbCsgd",
    "outputId": "67a40e07-4990-4146-f21f-bb5751b23b92"
   },
   "outputs": [],
   "source": [
    "x"
   ]
  },
  {
   "cell_type": "markdown",
   "metadata": {
    "id": "pH7jdpfcCR_l"
   },
   "source": [
    "# Assign Variable with another Memory"
   ]
  },
  {
   "cell_type": "code",
   "execution_count": null,
   "metadata": {
    "colab": {
     "base_uri": "https://localhost:8080/"
    },
    "id": "vYu2xA-SDEJW",
    "outputId": "a329bff0-6af9-4c2b-a61d-4dded9ed017b"
   },
   "outputs": [],
   "source": [
    "x.assign_add([4,6,2,8])"
   ]
  },
  {
   "cell_type": "code",
   "execution_count": null,
   "metadata": {
    "colab": {
     "base_uri": "https://localhost:8080/"
    },
    "id": "LkpXX54zDM6M",
    "outputId": "fbbc07d1-b435-42bf-cb96-4a8097c0e2cc"
   },
   "outputs": [],
   "source": [
    "x"
   ]
  },
  {
   "cell_type": "markdown",
   "metadata": {
    "id": "swj6hEwuPRTN"
   },
   "source": [
    "# Tensorflow Math **Modules**"
   ]
  },
  {
   "cell_type": "code",
   "execution_count": null,
   "metadata": {
    "id": "5w7HhlK0RY4M"
   },
   "outputs": [],
   "source": [
    "import tensorflow as tf\n",
    "import numpy as np"
   ]
  },
  {
   "cell_type": "code",
   "execution_count": null,
   "metadata": {
    "id": "69md910qR-G5"
   },
   "outputs": [],
   "source": [
    "a=10\n",
    "b=20"
   ]
  },
  {
   "cell_type": "code",
   "execution_count": null,
   "metadata": {
    "colab": {
     "base_uri": "https://localhost:8080/"
    },
    "id": "CrLtxKw3SC9r",
    "outputId": "82141494-9d04-4dd2-ebda-7f2b925f5d5a"
   },
   "outputs": [],
   "source": [
    "a+b"
   ]
  },
  {
   "cell_type": "code",
   "execution_count": null,
   "metadata": {
    "colab": {
     "base_uri": "https://localhost:8080/"
    },
    "id": "O9nUjTqOSFIc",
    "outputId": "cae85ad4-47cd-4276-8a5b-901f93b5c275"
   },
   "outputs": [],
   "source": [
    "tf.add(a,b)"
   ]
  },
  {
   "cell_type": "markdown",
   "metadata": {},
   "source": [
    "# Addition of Two List"
   ]
  },
  {
   "cell_type": "code",
   "execution_count": null,
   "metadata": {
    "colab": {
     "base_uri": "https://localhost:8080/"
    },
    "id": "Wb_EaI1uSLL0",
    "outputId": "e9a7df8d-32b9-4e20-bf2b-db2e7f137f6d"
   },
   "outputs": [],
   "source": [
    "l1=[1,2,3,4]\n",
    "l2=[5,6,7,8]\n",
    "tf.add(l1,l2)"
   ]
  },
  {
   "cell_type": "markdown",
   "metadata": {},
   "source": [
    "# Addition of Two tuple"
   ]
  },
  {
   "cell_type": "code",
   "execution_count": null,
   "metadata": {
    "colab": {
     "base_uri": "https://localhost:8080/"
    },
    "id": "bOk6--kwStrj",
    "outputId": "1fba5cb2-7b6e-4d67-8e7a-e643104a5555"
   },
   "outputs": [],
   "source": [
    "t1=(2,3,4,5)\n",
    "t2=(5,6,7,8)\n",
    "tf.add(t1,t2)"
   ]
  },
  {
   "cell_type": "code",
   "execution_count": null,
   "metadata": {
    "colab": {
     "base_uri": "https://localhost:8080/"
    },
    "id": "gy6cxki6TXvE",
    "outputId": "c8a32efd-cc3c-447e-9b95-297dd2d891fd"
   },
   "outputs": [],
   "source": [
    "l1=[1,2,3,4]\n",
    "a=10\n",
    "tf.add(l1,a)"
   ]
  },
  {
   "cell_type": "code",
   "execution_count": null,
   "metadata": {
    "colab": {
     "base_uri": "https://localhost:8080/"
    },
    "id": "tmjau97_UHrk",
    "outputId": "b368fe3f-1a82-42d9-e8bc-e5acd9a1c2da"
   },
   "outputs": [],
   "source": [
    "# Given a tensor x and a tensor y, this operation x^y computes for corresponding elements in x and y\n",
    "\n",
    "x = tf.constant([[2, 2], [3, 3]])\n",
    "y = tf.constant([[8, 16], [2, 3]])\n",
    "tf.pow(x, y)"
   ]
  },
  {
   "cell_type": "markdown",
   "metadata": {},
   "source": [
    "# tf.math.abs"
   ]
  },
  {
   "cell_type": "code",
   "execution_count": null,
   "metadata": {
    "colab": {
     "base_uri": "https://localhost:8080/"
    },
    "id": "RJUDB9fDU7yL",
    "outputId": "36f0571e-35a0-4e7f-c6ee-cf09e12916b6"
   },
   "outputs": [],
   "source": [
    "# real number\n",
    "x = tf.constant([-2.25, 3.25])\n",
    "tf.abs(x)"
   ]
  },
  {
   "cell_type": "code",
   "execution_count": null,
   "metadata": {
    "colab": {
     "base_uri": "https://localhost:8080/"
    },
    "id": "OPtmifL3e4PF",
    "outputId": "b1047c8a-3723-4041-e386-ee8d6bea9af9"
   },
   "outputs": [],
   "source": [
    "# complex number\n",
    "x = tf.constant([[-2.25 + 4.75j], [-3.25 + 5.75j]])\n",
    "tf.abs(x)"
   ]
  },
  {
   "cell_type": "code",
   "execution_count": null,
   "metadata": {
    "colab": {
     "base_uri": "https://localhost:8080/"
    },
    "id": "k5sFLamufDAs",
    "outputId": "527d3bd2-c5bd-493a-f633-aa63d370b657"
   },
   "outputs": [],
   "source": [
    "# tf.math.subtract\n",
    "\n",
    "x = [1, 2, 3, 4, 5]\n",
    "y = 1\n",
    "tf.subtract(x, y)"
   ]
  },
  {
   "cell_type": "code",
   "execution_count": null,
   "metadata": {
    "colab": {
     "base_uri": "https://localhost:8080/"
    },
    "id": "RwAJTEPafiue",
    "outputId": "21f7844f-1c80-458a-e0a1-f8612624f890"
   },
   "outputs": [],
   "source": [
    "x = [1, 2, 3, 4, 5]\n",
    "y = 1\n",
    "tf.subtract(y, x)"
   ]
  },
  {
   "cell_type": "code",
   "execution_count": null,
   "metadata": {
    "colab": {
     "base_uri": "https://localhost:8080/"
    },
    "id": "-74imvlNfpZm",
    "outputId": "8fcacaf9-3298-427b-a307-80a1377f60d0"
   },
   "outputs": [],
   "source": [
    "# tf.math.multiply\n",
    "import tensorflow as tf\n",
    "x = tf.constant(([1, 2, 3, 4]))\n",
    "tf.math.multiply(x, x)\n"
   ]
  },
  {
   "cell_type": "code",
   "execution_count": null,
   "metadata": {
    "colab": {
     "base_uri": "https://localhost:8080/"
    },
    "id": "lInZptf6g4zn",
    "outputId": "822a6575-9254-4481-a22c-8672c88d4b61"
   },
   "outputs": [],
   "source": [
    "tf.multiply(x, x)"
   ]
  },
  {
   "cell_type": "code",
   "execution_count": null,
   "metadata": {
    "colab": {
     "base_uri": "https://localhost:8080/"
    },
    "id": "e-axOYkBf9wH",
    "outputId": "eeaf2d0b-2bc5-474e-fbdc-fe986edaf92b"
   },
   "outputs": [],
   "source": [
    "tf.math.multiply(7,6)\n"
   ]
  },
  {
   "cell_type": "code",
   "execution_count": null,
   "metadata": {
    "colab": {
     "base_uri": "https://localhost:8080/"
    },
    "id": "XVSiNAKfgEon",
    "outputId": "f28b5a05-2190-4fed-fad4-b4232eef0a05"
   },
   "outputs": [],
   "source": [
    "x = tf.ones([1, 2]);\n",
    "y = tf.ones([2, 1]);\n",
    "x * y"
   ]
  },
  {
   "cell_type": "markdown",
   "metadata": {},
   "source": [
    "# tf.math.maximum"
   ]
  },
  {
   "cell_type": "code",
   "execution_count": null,
   "metadata": {
    "colab": {
     "base_uri": "https://localhost:8080/"
    },
    "id": "p9Blwc0TgMdw",
    "outputId": "426b118f-0caf-449d-9352-c2a493783943"
   },
   "outputs": [],
   "source": [
    "x = tf.constant([0., 0., 0., 0.])\n",
    "y = tf.constant([-2., 0., 2., 5.])\n",
    "tf.math.maximum(x, y)"
   ]
  },
  {
   "cell_type": "code",
   "execution_count": null,
   "metadata": {
    "colab": {
     "base_uri": "https://localhost:8080/"
    },
    "id": "3CE5o5Pfgp6x",
    "outputId": "21349d86-6885-428e-ea07-e6169de2230a"
   },
   "outputs": [],
   "source": [
    "x = tf.constant([-5., 0., 0., 0.])\n",
    "y = tf.constant([-3.])\n",
    "tf.math.maximum(x, y)"
   ]
  },
  {
   "cell_type": "code",
   "execution_count": null,
   "metadata": {
    "colab": {
     "base_uri": "https://localhost:8080/"
    },
    "id": "vNc4ketbg1HD",
    "outputId": "eff7a7bf-3b59-4ede-8ed7-6e137e89e842"
   },
   "outputs": [],
   "source": [
    "# tf.math.minimum\n",
    "x = tf.constant([0., 0., 0., 0.])\n",
    "y = tf.constant([-5., -2., 0., 3.])\n",
    "tf.math.minimum(x, y)"
   ]
  },
  {
   "cell_type": "code",
   "execution_count": null,
   "metadata": {
    "colab": {
     "base_uri": "https://localhost:8080/"
    },
    "id": "96k8rHXyhGxL",
    "outputId": "57dd5386-7762-4d2d-bac7-6ea50624db61"
   },
   "outputs": [],
   "source": [
    "x = tf.constant([-5., 0., 0., 0.])\n",
    "y = tf.constant([-3.])\n",
    "tf.math.minimum(x, y)"
   ]
  },
  {
   "cell_type": "code",
   "execution_count": null,
   "metadata": {
    "colab": {
     "base_uri": "https://localhost:8080/"
    },
    "id": "JWcjRA-IhOpD",
    "outputId": "857335aa-b341-4dc0-a069-3acd68cafd7e"
   },
   "outputs": [],
   "source": [
    "# tf.math.log\n",
    "x = tf.constant([0, 0.5, 1, 5])\n",
    "tf.math.log(x)"
   ]
  },
  {
   "cell_type": "code",
   "execution_count": null,
   "metadata": {
    "colab": {
     "base_uri": "https://localhost:8080/"
    },
    "id": "ASXR9HTXhdrc",
    "outputId": "63d72484-1690-4f17-dfa8-d0bb5c1eb17a"
   },
   "outputs": [],
   "source": [
    "# tf.math.divide\n",
    "x = tf.constant([16, 12, 11])\n",
    "y = tf.constant([4, 6, 2])\n",
    "tf.divide(x,y)"
   ]
  },
  {
   "cell_type": "code",
   "execution_count": null,
   "metadata": {
    "colab": {
     "base_uri": "https://localhost:8080/"
    },
    "id": "ArULCTvch2If",
    "outputId": "7f52f940-821b-40f1-c7c0-4183c782ddf1"
   },
   "outputs": [],
   "source": [
    "# tf.math.pow\n",
    "x = tf.constant([[2, 2], [3, 3]])\n",
    "y = tf.constant([[8, 16], [2, 3]])\n",
    "tf.pow(x, y)"
   ]
  },
  {
   "cell_type": "code",
   "execution_count": null,
   "metadata": {
    "colab": {
     "base_uri": "https://localhost:8080/"
    },
    "id": "34g6E2P8iJyW",
    "outputId": "b2942bbc-5093-4303-d88c-58f9520d4c5d"
   },
   "outputs": [],
   "source": [
    "# tf.math.sqrt\n",
    "x = tf.constant([[4.0], [16.0]])\n",
    "tf.sqrt(x)"
   ]
  },
  {
   "cell_type": "code",
   "execution_count": null,
   "metadata": {
    "colab": {
     "base_uri": "https://localhost:8080/"
    },
    "id": "Nmwflx3EieRU",
    "outputId": "a4e79d06-4fe0-4e0e-adec-73bf6bb8e7de"
   },
   "outputs": [],
   "source": [
    "y = tf.constant([[-4.0], [16.0]])\n",
    "tf.sqrt(y)"
   ]
  },
  {
   "cell_type": "code",
   "execution_count": null,
   "metadata": {
    "colab": {
     "base_uri": "https://localhost:8080/"
    },
    "id": "D9ikcEgMikZl",
    "outputId": "cf36dc5e-74ab-4f17-c31f-81ec7e18e56d"
   },
   "outputs": [],
   "source": [
    "tf.ones(1)"
   ]
  },
  {
   "cell_type": "code",
   "execution_count": null,
   "metadata": {
    "colab": {
     "base_uri": "https://localhost:8080/"
    },
    "id": "pre-AiczYBqn",
    "outputId": "cc03b2da-fcaa-4fea-c9cd-0e49fa94c334"
   },
   "outputs": [],
   "source": [
    "tf.ones((1)),tf.float32"
   ]
  },
  {
   "cell_type": "code",
   "execution_count": null,
   "metadata": {
    "colab": {
     "base_uri": "https://localhost:8080/"
    },
    "id": "P5F2RreTYI4u",
    "outputId": "5be32fcf-bcb1-4148-cb6a-c6ef0dbba6dd"
   },
   "outputs": [],
   "source": [
    "ones_2d= tf.ones((2,2)),tf.float32\n",
    "ones_2d"
   ]
  },
  {
   "cell_type": "code",
   "execution_count": null,
   "metadata": {
    "id": "bwvYVQASYY8t"
   },
   "outputs": [],
   "source": [
    "ones_3d=tf.ones((2,2,4),tf.float32)"
   ]
  },
  {
   "cell_type": "code",
   "execution_count": null,
   "metadata": {
    "colab": {
     "base_uri": "https://localhost:8080/"
    },
    "id": "NhG07SkSYxvd",
    "outputId": "ebc0d3bc-c289-4660-871b-e8ee299296c6"
   },
   "outputs": [],
   "source": [
    "ones_3d"
   ]
  },
  {
   "cell_type": "code",
   "execution_count": null,
   "metadata": {
    "colab": {
     "base_uri": "https://localhost:8080/"
    },
    "id": "9Xdmq9DyYzlF",
    "outputId": "9beb4658-1328-416a-bab5-93a61a9275c6"
   },
   "outputs": [],
   "source": [
    "tf.zeros(1)"
   ]
  },
  {
   "cell_type": "code",
   "execution_count": null,
   "metadata": {
    "colab": {
     "base_uri": "https://localhost:8080/"
    },
    "id": "nz0X-GBvZSdT",
    "outputId": "7725123e-81c7-490d-f658-295b114b07c3"
   },
   "outputs": [],
   "source": [
    "zeros_2d=tf.zeros((2,2),dtype=tf.int32)\n",
    "zeros_2d"
   ]
  },
  {
   "cell_type": "code",
   "execution_count": null,
   "metadata": {
    "colab": {
     "base_uri": "https://localhost:8080/"
    },
    "id": "KKBQiZIfZ0Bq",
    "outputId": "bac05bb3-09c1-4881-eed8-3e474677c21b"
   },
   "outputs": [],
   "source": [
    "# Ones_like:Creates a tensor of all ones that has the same shape as the input.\n",
    "tensor = tf.constant([[1, 2, 3], [4, 5, 6]])\n",
    "tf.ones_like(tensor)"
   ]
  },
  {
   "cell_type": "code",
   "execution_count": null,
   "metadata": {
    "colab": {
     "base_uri": "https://localhost:8080/"
    },
    "id": "pfgl0N8Narb9",
    "outputId": "4803efe5-53fd-4c07-8933-35054bcfd775"
   },
   "outputs": [],
   "source": [
    "tensor = tf.constant([[1, 2, 3], [4, 5, 6]])\n",
    "tf.zeros_like(tensor)"
   ]
  },
  {
   "cell_type": "markdown",
   "metadata": {
    "id": "CF5eKwB0JYUx"
   },
   "source": [
    "## **Placeholder**-Migrate tensorflow 1 code to tensorflow 2\n",
    "Place holder is a variable that we will assign data to at a later date."
   ]
  },
  {
   "cell_type": "code",
   "execution_count": null,
   "metadata": {
    "id": "pxb61LyrK8gh"
   },
   "outputs": [],
   "source": [
    "import tensorflow as tf"
   ]
  },
  {
   "cell_type": "code",
   "execution_count": null,
   "metadata": {
    "colab": {
     "base_uri": "https://localhost:8080/",
     "height": 141
    },
    "id": "SDDTBjCbLA1S",
    "outputId": "9c8498bb-62e2-4741-b22b-b6b8d6f0dac6"
   },
   "outputs": [],
   "source": [
    "tf.placeholder(dtype.float32,shape=(400,400))"
   ]
  },
  {
   "cell_type": "code",
   "execution_count": null,
   "metadata": {
    "colab": {
     "base_uri": "https://localhost:8080/"
    },
    "id": "kGD6E4UELWgT",
    "outputId": "0d3a70f6-f4ee-4a1c-95ea-e66559b16755"
   },
   "outputs": [],
   "source": [
    "tf.compat.v1.placeholder(dtype=tf.float32,shape=(400,400))"
   ]
  },
  {
   "cell_type": "code",
   "execution_count": null,
   "metadata": {
    "id": "rZJb3rAfL9l9"
   },
   "outputs": [],
   "source": [
    "tf.compat.v1.disable_eager_execution()"
   ]
  },
  {
   "cell_type": "code",
   "execution_count": null,
   "metadata": {
    "colab": {
     "base_uri": "https://localhost:8080/"
    },
    "id": "mokhP5FfLodh",
    "outputId": "0466e0a9-9ab9-430f-dbbb-0b8a1847adfb"
   },
   "outputs": [],
   "source": [
    "a=tf.compat.v1.placeholder(dtype=tf.float32,shape=(400,400))\n",
    "a"
   ]
  },
  {
   "cell_type": "code",
   "execution_count": null,
   "metadata": {
    "colab": {
     "base_uri": "https://localhost:8080/"
    },
    "id": "hTJU_PdjNLlR",
    "outputId": "8c0b76c5-91d9-42b9-915c-07f1383ca209"
   },
   "outputs": [],
   "source": [
    "b=tf.compat.v1.placeholder(dtype=tf.float32,shape=(400,400))\n",
    "b"
   ]
  },
  {
   "cell_type": "code",
   "execution_count": null,
   "metadata": {
    "colab": {
     "base_uri": "https://localhost:8080/"
    },
    "id": "HRlb2P5tNPN5",
    "outputId": "d16e778d-df28-4524-d385-4f4a908cd020"
   },
   "outputs": [],
   "source": [
    "c=tf.add(a,b)\n",
    "c"
   ]
  },
  {
   "cell_type": "code",
   "execution_count": null,
   "metadata": {
    "id": "sjTdB9G9NRaB"
   },
   "outputs": [],
   "source": [
    "import numpy as np"
   ]
  },
  {
   "cell_type": "code",
   "execution_count": null,
   "metadata": {
    "colab": {
     "base_uri": "https://localhost:8080/"
    },
    "id": "kla2uo2sNhaB",
    "outputId": "252c4608-9632-452a-b3e6-6857116b73af"
   },
   "outputs": [],
   "source": [
    "ones_array=np.ones((400,400),np.float32)\n",
    "ones_array"
   ]
  },
  {
   "cell_type": "code",
   "execution_count": null,
   "metadata": {
    "id": "QLk7JtgnODgg"
   },
   "outputs": [],
   "source": [
    "with tf.compat.v1.Session() as sess:\n",
    "   d=sess.run(c,feed_dict={a:ones_array,b:ones_array})"
   ]
  },
  {
   "cell_type": "code",
   "execution_count": null,
   "metadata": {
    "colab": {
     "base_uri": "https://localhost:8080/"
    },
    "id": "mcXl-GXhVvZ8",
    "outputId": "96115c33-74a8-455c-81eb-87e0c6366703"
   },
   "outputs": [],
   "source": [
    "d"
   ]
  },
  {
   "cell_type": "markdown",
   "metadata": {
    "id": "-rO3twg7WB_K"
   },
   "source": [
    "## **Sparse Tensors**\n",
    "It enables efficient storage & processing of tensors that contains lot of zero values"
   ]
  },
  {
   "cell_type": "code",
   "execution_count": null,
   "metadata": {
    "id": "aAkCtXIYW7sE"
   },
   "outputs": [],
   "source": [
    "tf.SparseTensor()\n"
   ]
  },
  {
   "cell_type": "code",
   "execution_count": null,
   "metadata": {
    "colab": {
     "base_uri": "https://localhost:8080/"
    },
    "id": "aOwsPUjTYjwb",
    "outputId": "fca2d39c-8839-4304-d70e-f8280ead5f8c"
   },
   "outputs": [],
   "source": [
    "tf.SparseTensor(indices=[[0,3],[2,4]],values=[10,20],dense_shape=[3,10])"
   ]
  },
  {
   "cell_type": "code",
   "execution_count": null,
   "metadata": {
    "colab": {
     "base_uri": "https://localhost:8080/"
    },
    "id": "gxlhUbv-Zj6j",
    "outputId": "79bf1af0-1534-40db-b329-c44cc5af7c22"
   },
   "outputs": [],
   "source": [
    "st1=tf.SparseTensor(indices=[[0,3],[2,4]],values=[10,20],dense_shape=[3,10])\n",
    "st1"
   ]
  },
  {
   "cell_type": "code",
   "execution_count": null,
   "metadata": {
    "colab": {
     "base_uri": "https://localhost:8080/"
    },
    "id": "nsgIPQiPa_Zb",
    "outputId": "2051122f-293d-4ed9-e112-a9f9a343449c"
   },
   "outputs": [],
   "source": [
    "print(st1)"
   ]
  },
  {
   "cell_type": "code",
   "execution_count": null,
   "metadata": {
    "id": "WXQxtQA3bCSL"
   },
   "outputs": [],
   "source": [
    "import tensorflow as tf\n",
    "\n",
    "x = tf.compat.v1.get_variable(\"x\", dtype=tf.int32,  initializer=tf.constant([5]))\n",
    "y = tf.compat.v1.get_variable(\"y\", dtype=tf.int32,  initializer=tf.constant([6]))\n"
   ]
  },
  {
   "cell_type": "code",
   "execution_count": null,
   "metadata": {
    "colab": {
     "base_uri": "https://localhost:8080/"
    },
    "id": "1R5fOewT0lPa",
    "outputId": "1ab4f30f-e313-4f3f-f6cb-50d7777216aa"
   },
   "outputs": [],
   "source": [
    "c = tf.constant([5], name =\"constant\")\n",
    "square = tf.constant([2], name =\"square\")\n",
    "f = tf.multiply(x, y) + tf.pow(x, square) + y + c\n",
    "f\n"
   ]
  }
 ],
 "metadata": {
  "colab": {
   "provenance": []
  },
  "kernelspec": {
   "display_name": "Python 3 (ipykernel)",
   "language": "python",
   "name": "python3"
  },
  "language_info": {
   "codemirror_mode": {
    "name": "ipython",
    "version": 3
   },
   "file_extension": ".py",
   "mimetype": "text/x-python",
   "name": "python",
   "nbconvert_exporter": "python",
   "pygments_lexer": "ipython3",
   "version": "3.13.5"
  }
 },
 "nbformat": 4,
 "nbformat_minor": 4
}
